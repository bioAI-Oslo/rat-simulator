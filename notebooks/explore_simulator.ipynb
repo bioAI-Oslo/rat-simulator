{
 "cells": [
  {
   "cell_type": "code",
   "execution_count": 1,
   "id": "7e82f7fc",
   "metadata": {},
   "outputs": [],
   "source": [
    "%load_ext autoreload\n",
    "%autoreload 2\n",
    "#%matplotlib notebook\n",
    "%matplotlib inline"
   ]
  },
  {
   "cell_type": "code",
   "execution_count": 20,
   "id": "70401762",
   "metadata": {},
   "outputs": [],
   "source": [
    "import numpy as np\n",
    "import matplotlib.pyplot as plt\n",
    "\n",
    "import sys\n",
    "sys.path.append(\"../\") if \"../\" not in sys.path else None # avoid adding multiple relave paths to sys.path\n",
    "\n",
    "# custom packages\n",
    "from ratsimulator import Agent, trajectory_generator\n",
    "from ratsimulator.Environment import Rectangle, RectanglewObjects\n"
   ]
  },
  {
   "cell_type": "code",
   "execution_count": 12,
   "id": "0bcf0334",
   "metadata": {},
   "outputs": [
    {
     "name": "stdout",
     "output_type": "stream",
     "text": [
      "Singular matrix\n",
      "Singular matrix\n"
     ]
    }
   ],
   "source": [
    "a = RectanglewObjects()"
   ]
  },
  {
   "cell_type": "markdown",
   "id": "7db9ac23-fca9-48e4-b05b-f7370b907c9b",
   "metadata": {},
   "source": [
    "# Initialise Environment"
   ]
  },
  {
   "cell_type": "code",
   "execution_count": 123,
   "id": "832f200e",
   "metadata": {},
   "outputs": [
    {
     "name": "stdout",
     "output_type": "stream",
     "text": [
      "Singular matrix\n",
      "Singular matrix\n"
     ]
    }
   ],
   "source": [
    "# Environment params\n",
    "boxsize = (2.2, 2.2)\n",
    "origo = (0,0)\n",
    "soft_boundary = 0.2\n",
    "\n",
    "# Init Environment\n",
    "env = RectanglewObjects(boxsize=boxsize, soft_boundary=soft_boundary, no_objects = 2)\n",
    "# \n",
    "# add extra walls\n",
    "env.add_wall(name=\"free_wall1\", bias=np.array([0.4,0.4]),slope=np.array([0.8,0.8]),t=[0,1])\n",
    "#env.add_wall(name=\"free_wall2\", bias=np.array([0.4,1.5]),slope=np.array([0.8,0]),t=[0,1])"
   ]
  },
  {
   "cell_type": "code",
   "execution_count": 124,
   "id": "9c8c3004-7eaf-4824-941a-597c29587503",
   "metadata": {},
   "outputs": [],
   "source": [
    "# create track\n",
    "seq_len=2000\n",
    "gen = trajectory_generator(env,seq_len=seq_len)\n",
    "outputs = next(gen)\n",
    "positions,agent = outputs[0], outputs[-1]"
   ]
  },
  {
   "cell_type": "code",
   "execution_count": 149,
   "id": "33421a6a",
   "metadata": {},
   "outputs": [
    {
     "data": {
      "text/plain": [
       "<matplotlib.collections.PathCollection at 0x1a5f9e4c760>"
      ]
     },
     "execution_count": 149,
     "metadata": {},
     "output_type": "execute_result"
    },
    {
     "data": {
      "image/png": "[encoded data removed]",
      "text/plain": [
       "<Figure size 720x720 with 1 Axes>"
      ]
     },
     "metadata": {
      "needs_background": "light"
     },
     "output_type": "display_data"
    }
   ],
   "source": [
    "# plot track\n",
    "fig,axs=plt.subplots(figsize=(10,10))\n",
    "env.plot_board(axs)\n",
    "#agent.plot_trajectory(axs,ds=8)\n",
    "plt.legend()\n",
    "axs.scatter(*zip(*c))"
   ]
  },
  {
   "cell_type": "code",
   "execution_count": 148,
   "id": "459397d8-77fd-421b-a499-0c3e5f51b598",
   "metadata": {
    "scrolled": false
   },
   "outputs": [
    {
     "name": "stdout",
     "output_type": "stream",
     "text": [
      "(2001, 2)\n",
      "(2001, 2)\n",
      "[False False False ... False False False]\n",
      "(22, 2)\n",
      "(22, 2)\n"
     ]
    }
   ],
   "source": [
    "print(agent.objects_observed.shape)\n",
    "print(agent.positions.shape)\n",
    "p_i = np.sum(agent.objects_observed, axis = 1)>0\n",
    "print(p_i)\n",
    "c = agent.positions[p_i]\n",
    "d = agent.objects_observed[p_i]\n",
    "print(c.shape)\n",
    "print(d.shape)"
   ]
  },
  {
   "cell_type": "code",
   "execution_count": 121,
   "id": "273d9e88",
   "metadata": {},
   "outputs": [
    {
     "name": "stdout",
     "output_type": "stream",
     "text": [
      "[0.96448034 2.09819888]\n",
      "[1. 0.]\n"
     ]
    }
   ],
   "source": [
    "print(c[0])\n",
    "print(d[0])"
   ]
  },
  {
   "cell_type": "code",
   "execution_count": 146,
   "id": "99e655bd",
   "metadata": {},
   "outputs": [],
   "source": [
    "#ax.scatter(*zip(*c))\n",
    "env.plot_board(axs)\n",
    "plt.show()"
   ]
  },
  {
   "cell_type": "code",
   "execution_count": 85,
   "id": "c3b8d312",
   "metadata": {},
   "outputs": [
    {
     "data": {
      "text/plain": [
       "(327, 2)"
      ]
     },
     "execution_count": 85,
     "metadata": {},
     "output_type": "execute_result"
    }
   ],
   "source": [
    "c.shape"
   ]
  },
  {
   "cell_type": "code",
   "execution_count": 63,
   "id": "c3828228",
   "metadata": {},
   "outputs": [
    {
     "data": {
      "text/plain": [
       "array([[2.1845626 , 1.87906482],\n",
       "       [2.1922813 , 1.86908299],\n",
       "       [2.19614065, 1.86255471]])"
      ]
     },
     "execution_count": 63,
     "metadata": {},
     "output_type": "execute_result"
    }
   ],
   "source": [
    "agent.positions[:3]"
   ]
  },
  {
   "cell_type": "code",
   "execution_count": 35,
   "id": "86a2dcaf",
   "metadata": {},
   "outputs": [
    {
     "data": {
      "text/plain": [
       "array([], shape=(0, 2), dtype=float64)"
      ]
     },
     "execution_count": 35,
     "metadata": {},
     "output_type": "execute_result"
    }
   ],
   "source": [
    "idx0 = agent.positions.shape[0]\n",
    "\n",
    "delta_p = np.cumsum(agent.velocities[idx0:], axis=0) \n",
    "delta_p"
   ]
  }
 ],
 "metadata": {
  "kernelspec": {
   "display_name": "Python 3 (ipykernel)",
   "language": "python",
   "name": "python3"
  },
  "language_info": {
   "codemirror_mode": {
    "name": "ipython",
    "version": 3
   },
   "file_extension": ".py",
   "mimetype": "text/x-python",
   "name": "python",
   "nbconvert_exporter": "python",
   "pygments_lexer": "ipython3",
   "version": "3.8.5"
  }
 },
 "nbformat": 4,
 "nbformat_minor": 5
}
